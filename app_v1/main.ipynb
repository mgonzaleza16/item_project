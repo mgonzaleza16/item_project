{
 "cells": [
  {
   "cell_type": "code",
   "execution_count": 5,
   "metadata": {},
   "outputs": [],
   "source": [
    "import pandas as pd\n",
    "pd.set_option(\"display.max_rows\", None)\n",
    "pd.set_option(\"display.max_columns\", None)\n",
    "import warnings\n",
    "warnings.filterwarnings(\"ignore\", category=DeprecationWarning)\n",
    "\n",
    "params = {\"ot\": \"OTTESTING01\",\n",
    "            \"datadate\": \"2023-05-11\"}\n",
    "item_activity_file = \"data/input/Matriz de Conversion Clarificador Rev.B1.xlsx\""
   ]
  },
  {
   "cell_type": "code",
   "execution_count": 2,
   "metadata": {},
   "outputs": [],
   "source": [
    "from settings import settings\n",
    "from utils.add_columns_to_dataframe import AddColumnsToDataFrame\n",
    "\n",
    "from excel_processor.excel_processor import ExcelProcessor\n",
    "from excel_processor.schemas import itemizado_schema, activity_schema\n",
    "\n",
    "from utils.dataframe_comparator import DataFrameComparator, ComparisonType, ComparisonSchema\n",
    "\n",
    "from utils.dataframe_aggregator import GroupingParameters, Aggregation, group_dataframe\n"
   ]
  },
  {
   "attachments": {},
   "cell_type": "markdown",
   "metadata": {},
   "source": [
    "---\n",
    "Creación de dataframes de Itemizado y Actividades"
   ]
  },
  {
   "cell_type": "code",
   "execution_count": 3,
   "metadata": {},
   "outputs": [],
   "source": [
    "# Crea datadrame desde hoja itemizado\n",
    "processor_item = ExcelProcessor(item_activity_file, itemizado_schema)\n",
    "item_result = processor_item.process()\n",
    "\n",
    "if item_result.error_message:\n",
    "    print(f\"Error: {item_result.error_message}\")\n",
    "else:\n",
    "    item_summary = item_result.dataframe"
   ]
  },
  {
   "cell_type": "code",
   "execution_count": 4,
   "metadata": {},
   "outputs": [],
   "source": [
    "# Crea dataframe desde la hoja actividad\n",
    "processor = ExcelProcessor(item_activity_file, activity_schema)\n",
    "result = processor.process()\n",
    "\n",
    "if result.error_message:\n",
    "    print(f\"Error: {result.error_message}\")\n",
    "else:\n",
    "    activity_summary = result.dataframe"
   ]
  },
  {
   "attachments": {},
   "cell_type": "markdown",
   "metadata": {},
   "source": [
    "---\n",
    "Validaciones entre dataframes"
   ]
  },
  {
   "cell_type": "code",
   "execution_count": null,
   "metadata": {},
   "outputs": [],
   "source": [
    "# Validar que los items definidos en actividades estén en itemizado\n",
    "comparator_item = DataFrameComparator( # Comparador df1 a df2\n",
    "    df1=activity_summary,\n",
    "    df1_name=\"activity_summary\",\n",
    "    df2=item_summary,\n",
    "    df2_name=\"item_summary\"\n",
    ")\n",
    "\n",
    "comparison_item_schema = ComparisonSchema(\n",
    "    comparison_type=ComparisonType.INCLUSION,\n",
    "    columns_dict={\"item_id\": \"item_id\"}  # Mapa de columnas df1 a df2\n",
    ")\n",
    "\n",
    "column_validation_result = comparator_item.validate_columns(comparison_item_schema)\n",
    "\n",
    "if column_validation_result.has_error:\n",
    "    print(f\"Error: {column_validation_result.error_message}\")\n",
    "else:\n",
    "    value_validation_result = comparator_item.validate_values(comparison_item_schema)\n",
    "    if value_validation_result.has_error:\n",
    "        print(f\"Error: {value_validation_result.error_message}\")\n"
   ]
  },
  {
   "attachments": {},
   "cell_type": "markdown",
   "metadata": {},
   "source": [
    "___\n",
    "Dataframe con las HH Bac de la actividad en base a la matriz de itemizado\n"
   ]
  },
  {
   "cell_type": "code",
   "execution_count": 7,
   "metadata": {},
   "outputs": [],
   "source": [
    "# Crear una instancia de la clase GroupingParameters\n",
    "grouping_params_activity = GroupingParameters(\n",
    "    df=activity_summary, # DataFrame de origen\n",
    "    groupby_columns=['activity_code', 'activity_unit'], # Columnas por las cuales agrupar\n",
    "    aggregations=[ # Agregaciones a realizar:\n",
    "        Aggregation(column='activity_laborunits', agg_func='sum', output_name='bac_activity'),\n",
    "        Aggregation(column='qty_activity', agg_func='sum', output_name='qty_activity')\n",
    "    ]\n",
    ")\n",
    "# Llamar a la función group_dataframe con los parámetros de agrupación que acabas de definir\n",
    "grouping_activity = group_dataframe(grouping_params_activity)\n",
    "\n",
    "if grouping_activity.error_message:\n",
    "    print(f\"Error: {grouping_activity.error_message}\")\n",
    "else:\n",
    "    grouped_activity = grouping_activity.dataframe\n"
   ]
  },
  {
   "attachments": {},
   "cell_type": "markdown",
   "metadata": {},
   "source": [
    "---\n",
    "Agrega parametros como columnas a dataframe"
   ]
  },
  {
   "cell_type": "code",
   "execution_count": 5,
   "metadata": {},
   "outputs": [],
   "source": [
    "# Crear instancia de la clase e ingresar el dataframe y el diccionario de parámetros\n",
    "add_columns_to_df = AddColumnsToDataFrame(dataframe=item_summary, parameters=params) # type: ignore\n",
    "\n",
    "# Agregar columnas al dataframe\n",
    "item_summary_with_columns = add_columns_to_df.add_columns()"
   ]
  },
  {
   "attachments": {},
   "cell_type": "markdown",
   "metadata": {},
   "source": [
    "___\n",
    "Creación de dataframe desde sql server (P6)"
   ]
  },
  {
   "cell_type": "code",
   "execution_count": 9,
   "metadata": {},
   "outputs": [
    {
     "name": "stderr",
     "output_type": "stream",
     "text": [
      "2023-05-22 20:40:37 [INFO]: Running SQL query...\n",
      "/Users/miguelangelgonzalezalfaro/opt/anaconda3/envs/py3_10/lib/python3.10/site-packages/pandas/io/sql.py:761: UserWarning: pandas only support SQLAlchemy connectable(engine/connection) ordatabase string URI or sqlite3 DBAPI2 connectionother DBAPI2 objects are not tested, please consider using SQLAlchemy\n",
      "  warnings.warn(\n",
      "2023-05-22 20:40:37 [INFO]: SQL query successfully run.\n"
     ]
    }
   ],
   "source": [
    "from p6_data.sql_data_frame_creator import SQLDataFrameCreator, SQLParams\n",
    "\n",
    "activitys_sql = \"sql_querys/activitys_p6.sql\"\n",
    "\n",
    "# Define los parámetros SQL\n",
    "params = SQLParams(params=settings.SQL_PARAMS)\n",
    "\n",
    "# Crea el creador de dataframe\n",
    "creator = SQLDataFrameCreator(query_file=activitys_sql, params=params)\n",
    "\n",
    "# Crea el dataframe\n",
    "activitys_p6 = creator.get_dataframe()\n"
   ]
  },
  {
   "cell_type": "code",
   "execution_count": 10,
   "metadata": {},
   "outputs": [
    {
     "name": "stdout",
     "output_type": "stream",
     "text": [
      "<class 'pandas.core.frame.DataFrame'>\n",
      "RangeIndex: 82 entries, 0 to 81\n",
      "Data columns (total 3 columns):\n",
      " #   Column                    Non-Null Count  Dtype  \n",
      "---  ------                    --------------  -----  \n",
      " 0   ID Actividad              82 non-null     object \n",
      " 1   total_hh_actividad        82 non-null     float64\n",
      " 2   activity_percentcomplete  82 non-null     float64\n",
      "dtypes: float64(2), object(1)\n",
      "memory usage: 2.0+ KB\n"
     ]
    }
   ],
   "source": [
    "activitys_p6.info()"
   ]
  },
  {
   "cell_type": "code",
   "execution_count": null,
   "metadata": {},
   "outputs": [],
   "source": []
  }
 ],
 "metadata": {
  "kernelspec": {
   "display_name": "py3_10",
   "language": "python",
   "name": "python3"
  },
  "language_info": {
   "codemirror_mode": {
    "name": "ipython",
    "version": 3
   },
   "file_extension": ".py",
   "mimetype": "text/x-python",
   "name": "python",
   "nbconvert_exporter": "python",
   "pygments_lexer": "ipython3",
   "version": "3.10.4"
  },
  "orig_nbformat": 4
 },
 "nbformat": 4,
 "nbformat_minor": 2
}
