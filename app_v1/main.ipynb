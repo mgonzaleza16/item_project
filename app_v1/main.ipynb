{
 "cells": [
  {
   "cell_type": "code",
   "execution_count": 1,
   "metadata": {},
   "outputs": [],
   "source": [
    "import pandas as pd\n",
    "pd.set_option(\"display.max_rows\", None)\n",
    "pd.set_option(\"display.max_columns\", None)\n",
    "\n",
    "params = {\"ot\": \"OTTESTING01\",\n",
    "            \"datadate\": \"2023-05-11\"}\n",
    "item_activity_file = \"data/input/Matriz de Conversion Clarificador Rev.B1.xlsx\""
   ]
  },
  {
   "cell_type": "code",
   "execution_count": 2,
   "metadata": {},
   "outputs": [],
   "source": [
    "# Importar la clase desde el archivo add_columns_to_dataframe.py\n",
    "from utils.add_columns_to_dataframe import AddColumnsToDataFrame\n",
    "\n",
    "from excel_processor.excel_processor import ExcelProcessor\n",
    "from excel_processor.schemas import itemizado_schema, activity_schema"
   ]
  },
  {
   "cell_type": "code",
   "execution_count": 3,
   "metadata": {},
   "outputs": [],
   "source": [
    "# Procesa el archivo Excel\n",
    "processor = ExcelProcessor(item_activity_file, itemizado_schema)\n",
    "result = processor.process()\n",
    "\n",
    "if result.error_message:\n",
    "    print(f\"Error: {result.error_message}\")\n",
    "else:\n",
    "    item_summary = result.dataframe"
   ]
  },
  {
   "cell_type": "code",
   "execution_count": 4,
   "metadata": {},
   "outputs": [
    {
     "name": "stdout",
     "output_type": "stream",
     "text": [
      "Error: La columna qty_activity contiene valores 0 en las celdas: qty_activity3, qty_activity5, qty_activity8, qty_activity10, qty_activity12, qty_activity14, qty_activity16, qty_activity18, qty_activity19, qty_activity20, qty_activity22, qty_activity23, qty_activity26, qty_activity28, qty_activity30, qty_activity32, qty_activity36, qty_activity39, qty_activity42, qty_activity44, qty_activity51, qty_activity53, qty_activity55, qty_activity56, qty_activity58, qty_activity61, qty_activity63, qty_activity68, qty_activity70, qty_activity72, qty_activity74, qty_activity76, qty_activity80, qty_activity85, qty_activity87, qty_activity89, qty_activity91, qty_activity93, qty_activity95, qty_activity98, qty_activity100, qty_activity102, qty_activity104, qty_activity107, qty_activity109, qty_activity111, qty_activity113, qty_activity116, qty_activity118, qty_activity120, qty_activity122, qty_activity125, qty_activity127, qty_activity129, qty_activity131, qty_activity134, qty_activity136, qty_activity138, qty_activity140, qty_activity143, qty_activity145, qty_activity147, qty_activity149, qty_activity152, qty_activity154, qty_activity156, qty_activity158, qty_activity160, qty_activity162, qty_activity164, qty_activity166, qty_activity168, qty_activity170, qty_activity172, qty_activity174, qty_activity176, qty_activity178, qty_activity180, qty_activity182, qty_activity185, qty_activity187, qty_activity189, qty_activity191, qty_activity193, qty_activity195, qty_activity197, qty_activity199, qty_activity201, qty_activity203, qty_activity205, qty_activity207, qty_activity210, qty_activity212, qty_activity214, qty_activity216, qty_activity218, qty_activity220, qty_activity222, qty_activity224, qty_activity226, qty_activity228, qty_activity238, qty_activity240, qty_activity242, qty_activity245, qty_activity248, qty_activity251, qty_activity254, qty_activity257, qty_activity260, qty_activity263, qty_activity266, qty_activity269, qty_activity272, qty_activity275, qty_activity278, qty_activity281, qty_activity284, qty_activity287, qty_activity290, qty_activity293, qty_activity296, qty_activity299, qty_activity302, qty_activity305, qty_activity308, qty_activity311, qty_activity313, qty_activity320, qty_activity322, qty_activity324, qty_activity326, qty_activity328, qty_activity330, qty_activity332, qty_activity334, qty_activity336, qty_activity338, qty_activity340, qty_activity342, qty_activity344, qty_activity346, qty_activity348, qty_activity350, qty_activity353, qty_activity356, qty_activity359, qty_activity362, qty_activity364, qty_activity366, qty_activity368, qty_activity369, qty_activity370, qty_activity371, qty_activity372, qty_activity373, qty_activity374, qty_activity375, qty_activity376, qty_activity377, qty_activity378, qty_activity379, qty_activity380, qty_activity386, qty_activity393, qty_activity396, qty_activity398, qty_activity400, qty_activity402, qty_activity403, qty_activity404, qty_activity405, qty_activity406, qty_activity407, qty_activity408, qty_activity409, qty_activity410, qty_activity411, qty_activity412, qty_activity413, qty_activity414, qty_activity415, qty_activity416, qty_activity417, qty_activity419, qty_activity421, qty_activity426, qty_activity429, qty_activity433, qty_activity444, qty_activity445, qty_activity446, qty_activity447, qty_activity448, qty_activity449, qty_activity450, qty_activity451, qty_activity452, qty_activity453, qty_activity454, qty_activity455, qty_activity457, qty_activity460, qty_activity462, qty_activity467, qty_activity472, qty_activity474, qty_activity479, qty_activity481, qty_activity483, qty_activity485, qty_activity487, qty_activity489, qty_activity491, qty_activity493, qty_activity496, qty_activity499, qty_activity501, qty_activity503, qty_activity505, qty_activity507, qty_activity509, qty_activity511, qty_activity514, qty_activity517, qty_activity519, qty_activity521, qty_activity523, qty_activity525, qty_activity528, qty_activity530, qty_activity532, qty_activity534, qty_activity538, qty_activity541, qty_activity544, qty_activity546, qty_activity550, qty_activity552, qty_activity554, qty_activity556, qty_activity558, qty_activity561, qty_activity564, qty_activity567, qty_activity570, qty_activity572, qty_activity574, qty_activity576, qty_activity577, qty_activity578, qty_activity579, qty_activity580, qty_activity581, qty_activity582, qty_activity583, qty_activity584, qty_activity585, qty_activity586, qty_activity587, qty_activity588, qty_activity590, qty_activity592, qty_activity597, qty_activity600, qty_activity604, qty_activity615, qty_activity616, qty_activity617, qty_activity618, qty_activity619, qty_activity620, qty_activity621, qty_activity622, qty_activity623, qty_activity624, qty_activity625, qty_activity626, qty_activity628, qty_activity629, qty_activity631, qty_activity634, qty_activity636, qty_activity641, qty_activity643, qty_activity645, qty_activity647, qty_activity650, qty_activity652, qty_activity654, qty_activity656, qty_activity658\n"
     ]
    }
   ],
   "source": [
    "# Procesa el archivo Excel\n",
    "processor = ExcelProcessor(item_activity_file, activity_schema)\n",
    "result = processor.process()\n",
    "\n",
    "if result.error_message:\n",
    "    print(f\"Error: {result.error_message}\")\n",
    "else:\n",
    "    activity_summary = result.dataframe"
   ]
  },
  {
   "cell_type": "code",
   "execution_count": 5,
   "metadata": {},
   "outputs": [],
   "source": [
    "# Crear instancia de la clase e ingresar el dataframe y el diccionario de parámetros\n",
    "add_columns_to_df = AddColumnsToDataFrame(dataframe=item_summary, parameters=params) # type: ignore\n",
    "\n",
    "# Agregar columnas al dataframe\n",
    "item_summary_with_columns = add_columns_to_df.add_columns()"
   ]
  }
 ],
 "metadata": {
  "kernelspec": {
   "display_name": "py3_10",
   "language": "python",
   "name": "python3"
  },
  "language_info": {
   "codemirror_mode": {
    "name": "ipython",
    "version": 3
   },
   "file_extension": ".py",
   "mimetype": "text/x-python",
   "name": "python",
   "nbconvert_exporter": "python",
   "pygments_lexer": "ipython3",
   "version": "3.10.4"
  },
  "orig_nbformat": 4
 },
 "nbformat": 4,
 "nbformat_minor": 2
}
